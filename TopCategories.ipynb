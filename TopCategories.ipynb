{
 "cells": [
  {
   "cell_type": "code",
   "execution_count": 1,
   "metadata": {},
   "outputs": [],
   "source": [
    "import findspark\n",
    "\n",
    "findspark.init('C:\\\\spark\\\\spark-2.3.1-bin-hadoop2.7')"
   ]
  },
  {
   "cell_type": "code",
   "execution_count": 2,
   "metadata": {},
   "outputs": [],
   "source": [
    "import sys\n",
    "assert sys.version_info >= (3, 5) # make sure we have Python 3.5+\n",
    "import operator\n",
    "\n",
    "from pyspark.sql import SparkSession\n",
    "spark = SparkSession.builder.appName(\"TopCategories\").getOrCreate()\n",
    "assert spark.version >= '2.3' # make sure we have Spark 2.3+\n",
    "from pyspark import SparkContext\n",
    "spark.sparkContext.setLogLevel('WARN')\n",
    "sc = SparkContext\n",
    "import re, operator, string\n",
    "import json"
   ]
  },
  {
   "cell_type": "code",
   "execution_count": 5,
   "metadata": {},
   "outputs": [],
   "source": [
    "def wwo(line):\n",
    "    if line[0] is not None:\n",
    "        x = line[0].split(\",\")\n",
    "        for y in x:\n",
    "            if len(y)>1:\n",
    "                y = y.strip()\n",
    "                yield(y,1)"
   ]
  },
  {
   "cell_type": "code",
   "execution_count": 24,
   "metadata": {},
   "outputs": [],
   "source": [
    "business_table = spark.read.parquet('YELP_PAR/business')\n",
    "review_table = spark.read.parquet('YELP_PAR/review')\n",
    "all_categories = business_table.select(\"categories\")\n",
    "ccounts = all_categories.rdd.repartition(8).flatMap(wwo)\n",
    "top10 = ccounts.reduceByKey(operator.add).sortBy(lambda x: x[1],ascending = False)\n",
    "df = spark.createDataFrame(top10, ['category', 'count'])\n",
    "df.limit(10).toPandas().to_csv(\"TopCategories.csv\",index=False)"
   ]
  },
  {
   "cell_type": "code",
   "execution_count": null,
   "metadata": {},
   "outputs": [],
   "source": []
  }
 ],
 "metadata": {
  "kernelspec": {
   "display_name": "Python 3",
   "language": "python",
   "name": "python3"
  },
  "language_info": {
   "codemirror_mode": {
    "name": "ipython",
    "version": 3
   },
   "file_extension": ".py",
   "mimetype": "text/x-python",
   "name": "python",
   "nbconvert_exporter": "python",
   "pygments_lexer": "ipython3",
   "version": "3.6.0"
  }
 },
 "nbformat": 4,
 "nbformat_minor": 2
}
