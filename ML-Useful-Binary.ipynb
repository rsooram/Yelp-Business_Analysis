{
 "cells": [
  {
   "cell_type": "code",
   "execution_count": 1,
   "metadata": {},
   "outputs": [],
   "source": [
    "import findspark\n",
    "findspark.init('C:\\\\spark\\\\spark-2.3.1-bin-hadoop2.7')"
   ]
  },
  {
   "cell_type": "code",
   "execution_count": 2,
   "metadata": {},
   "outputs": [],
   "source": [
    "import sys\n",
    "assert sys.version_info >= (3, 5) # make sure we have Python 3.5+\n",
    "from pyspark.ml.tuning import ParamGridBuilder, CrossValidator\n",
    "import numpy as np\n",
    "from pyspark.sql import SparkSession, functions, types\n",
    "from pyspark.sql.functions import stddev, avg, broadcast, max\n",
    "from datetime import datetime\n",
    "from pyspark.sql.functions import col, split\n",
    "from pyspark.sql.types import ArrayType, IntegerType\n",
    "from pyspark.sql.functions import isnan, when, count, col\n",
    "from pyspark.ml import PipelineModel, Pipeline\n",
    "from pyspark.ml.feature import StringIndexer, VectorAssembler, SQLTransformer, MinMaxScaler, OneHotEncoder, HashingTF, IDF\n",
    "from pyspark.ml.regression import GBTRegressor\n",
    "from pyspark.ml.evaluation import RegressionEvaluator\n",
    "from pyspark.ml.feature import RegexTokenizer, StopWordsRemover, CountVectorizer\n",
    "from pyspark.ml.classification import LogisticRegression, DecisionTreeClassifier, GBTClassifier\n",
    "from pyspark.ml.classification import MultilayerPerceptronClassifier, NaiveBayes, RandomForestClassifier\n",
    "from pyspark.ml.evaluation import MulticlassClassificationEvaluator,BinaryClassificationEvaluator\n",
    "\n",
    "spark = SparkSession.builder.appName('useful_model').getOrCreate()\n",
    "spark.sparkContext.setLogLevel('WARN')\n",
    "assert spark.version >= '2.3' # make sure we have Spark 2.3+\n",
    "\n",
    "from pyspark.ml.stat import Correlation\n",
    "import matplotlib.pyplot as plt\n",
    "%matplotlib inline"
   ]
  },
  {
   "cell_type": "code",
   "execution_count": 3,
   "metadata": {},
   "outputs": [
    {
     "data": {
      "text/plain": [
       "['average_stars',\n",
       " 'compliment_cool',\n",
       " 'compliment_cute',\n",
       " 'compliment_funny',\n",
       " 'compliment_hot',\n",
       " 'compliment_list',\n",
       " 'compliment_more',\n",
       " 'compliment_note',\n",
       " 'compliment_photos',\n",
       " 'compliment_plain',\n",
       " 'compliment_profile',\n",
       " 'compliment_writer',\n",
       " 'fans',\n",
       " 'review_count',\n",
       " 'useful',\n",
       " 'review_useful_votes',\n",
       " 'friends_count',\n",
       " 'reviewtext_count',\n",
       " 'no_months',\n",
       " 'useful_category']"
      ]
     },
     "execution_count": 3,
     "metadata": {},
     "output_type": "execute_result"
    }
   ],
   "source": [
    "#Collecting data\n",
    "data = spark.read.parquet('MLearnBinary/train')\n",
    "data = data.cache()\n",
    "data.columns"
   ]
  },
  {
   "cell_type": "markdown",
   "metadata": {},
   "source": [
    "<b>predictors and target:</b><br>\n",
    "'average_stars' - average stars the user has received<br>\n",
    "'compliment_cool','compliment_cute','compliment_funny','compliment_hot','compliment_list','compliment_more','compliment_note',<br>\n",
    "'compliment_photos','compliment_plain','compliment_profile','compliment_writer' - compiments received by the user<br>\n",
    "'fans' - number of fans the user has<br>\n",
    "'review_count' - number of reviews given by the user<br>\n",
    "'useful' - count of user's useful votes<br>\n",
    "'review_useful_votes' - useful votes for a review<br>\n",
    "'friends_count' - number of friends the user has<br>\n",
    "'reviewtext_count' - length of the review text<br>\n",
    "'no_months' - yelping period in months<br>\n",
    "'useful_category' - usefulness category to be predicted<br>"
   ]
  },
  {
   "cell_type": "code",
   "execution_count": 4,
   "metadata": {},
   "outputs": [
    {
     "name": "stdout",
     "output_type": "stream",
     "text": [
      "+---------------+-------+\n",
      "|useful_category|  count|\n",
      "+---------------+-------+\n",
      "|     not_useful|2537521|\n",
      "|         useful|2260211|\n",
      "+---------------+-------+\n",
      "\n"
     ]
    }
   ],
   "source": [
    "#checking data for each class\n",
    "class_count = data.groupby(\"useful_category\").count().orderBy('count', ascending=False).cache()\n",
    "class_count.show()"
   ]
  },
  {
   "cell_type": "code",
   "execution_count": 5,
   "metadata": {},
   "outputs": [],
   "source": [
    "# Finding min count\n",
    "min_count = class_count.agg({\"count\": \"min\"}).collect()[0][0]\n",
    "category_list = class_count.select(\"useful_category\").rdd.flatMap(lambda x: x).collect()\n",
    "category_count_list = class_count.select(\"count\").rdd.flatMap(lambda x: x).collect()"
   ]
  },
  {
   "cell_type": "code",
   "execution_count": 6,
   "metadata": {},
   "outputs": [
    {
     "data": {
      "image/png": "[encoded data removed]",
      "text/plain": [
       "<Figure size 432x288 with 1 Axes>"
      ]
     },
     "metadata": {
      "needs_background": "light"
     },
     "output_type": "display_data"
    }
   ],
   "source": [
    "# Plot class count\n",
    "plt.bar(category_list,category_count_list)\n",
    "plt.xticks(rotation=45)\n",
    "plt.xlabel('category')\n",
    "plt.ylabel('count')\n",
    "plt.show()"
   ]
  },
  {
   "cell_type": "code",
   "execution_count": 7,
   "metadata": {
    "scrolled": true
   },
   "outputs": [
    {
     "data": {
      "text/plain": [
       "4318977"
      ]
     },
     "execution_count": 7,
     "metadata": {},
     "output_type": "execute_result"
    }
   ],
   "source": [
    "#total count of train data\n",
    "class_count.unpersist()\n",
    "train_data_model,validation = data.randomSplit([0.9, 0.1],seed=1234) \n",
    "train_data_model = train_data_model.cache()\n",
    "validation = validation.cache()\n",
    "train_data_model.count()"
   ]
  },
  {
   "cell_type": "markdown",
   "metadata": {},
   "source": [
    "Model Logistic Regression:"
   ]
  },
  {
   "cell_type": "code",
   "execution_count": 8,
   "metadata": {},
   "outputs": [],
   "source": [
    "req_columns = ['average_stars',\n",
    " 'compliment_cool',\n",
    " 'compliment_cute',\n",
    " 'compliment_funny',\n",
    " 'compliment_hot',\n",
    " 'compliment_list',\n",
    " 'compliment_more',\n",
    " 'compliment_note',\n",
    " 'compliment_photos',\n",
    " 'compliment_plain',\n",
    " 'compliment_profile',\n",
    " 'compliment_writer',\n",
    " 'fans',\n",
    " 'review_count',\n",
    " 'useful',\n",
    " 'friends_count',\n",
    " 'reviewtext_count',\n",
    " 'no_months']\n",
    "\n",
    "vec_assembler = VectorAssembler(inputCols=req_columns, outputCol=\"features\")\n",
    "label_string = StringIndexer(inputCol = \"useful_category\", outputCol = \"label\")\n",
    "min_max_scaler = MinMaxScaler(inputCol=\"features\", outputCol=\"scaledFeatures\")\n",
    "logit_reg = LogisticRegression(featuresCol=\"scaledFeatures\", labelCol=\"label\",maxIter=100, regParam=0.3, elasticNetParam=0.0)"
   ]
  },
  {
   "cell_type": "code",
   "execution_count": 9,
   "metadata": {},
   "outputs": [
    {
     "name": "stdout",
     "output_type": "stream",
     "text": [
      "Validation score for model using LogisticRegression: 0.706794\n"
     ]
    }
   ],
   "source": [
    "useful_pipeline = Pipeline(stages=[vec_assembler,label_string, min_max_scaler,logit_reg])\n",
    "\n",
    "useful_model = useful_pipeline.fit(train_data_model)\n",
    "useful_predictions = useful_model.transform(validation)\n",
    "evaluator = BinaryClassificationEvaluator()\n",
    "score = evaluator.evaluate(useful_predictions)\n",
    "print('Validation score for model using LogisticRegression: %g' % (score))"
   ]
  },
  {
   "cell_type": "markdown",
   "metadata": {},
   "source": [
    "Other Models:"
   ]
  },
  {
   "cell_type": "code",
   "execution_count": 10,
   "metadata": {},
   "outputs": [
    {
     "name": "stdout",
     "output_type": "stream",
     "text": [
      "Validation score for model using Decision Tree Classifier: 0.662612\n"
     ]
    }
   ],
   "source": [
    "# Using Decision Tree Classifier\n",
    "vec_assembler = VectorAssembler(inputCols=req_columns, outputCol=\"features\")\n",
    "label_string = StringIndexer(inputCol = \"useful_category\", outputCol = \"label\")\n",
    "min_max_scaler = MinMaxScaler(inputCol=\"features\", outputCol=\"scaledFeatures\")\n",
    "dtc = DecisionTreeClassifier(featuresCol=\"scaledFeatures\", labelCol=\"label\")\n",
    "useful_pipeline_dtc = Pipeline(stages=[vec_assembler,label_string, min_max_scaler,dtc])\n",
    "useful_model_dtc = useful_pipeline_dtc.fit(train_data_model)\n",
    "useful_predictions_dtc = useful_model_dtc.transform(validation)\n",
    "evaluator = MulticlassClassificationEvaluator(predictionCol=\"prediction\",labelCol=\"label\",metricName=\"accuracy\")\n",
    "score_dtc = evaluator.evaluate(useful_predictions_dtc)\n",
    "print('Validation score for model using Decision Tree Classifier: %g' % (score_dtc))"
   ]
  },
  {
   "cell_type": "code",
   "execution_count": 11,
   "metadata": {},
   "outputs": [
    {
     "name": "stdout",
     "output_type": "stream",
     "text": [
      "Validation score for model using Random Forest Classifier: 0.719302\n"
     ]
    }
   ],
   "source": [
    "# Using Random Forest Classifier\n",
    "vec_assembler = VectorAssembler(inputCols=req_columns, outputCol=\"features\")\n",
    "label_string = StringIndexer(inputCol = \"useful_category\", outputCol = \"label\")\n",
    "min_max_scaler = MinMaxScaler(inputCol=\"features\", outputCol=\"scaledFeatures\")\n",
    "rf = RandomForestClassifier(labelCol=\"label\", featuresCol=\"scaledFeatures\", numTrees=10)\n",
    "useful_pipeline_rf = Pipeline(stages=[vec_assembler,label_string, min_max_scaler,rf])\n",
    "useful_model_rf = useful_pipeline_rf.fit(train_data_model)\n",
    "useful_predictions_rf = useful_model_rf.transform(validation)\n",
    "evaluator = BinaryClassificationEvaluator()\n",
    "score_rf = evaluator.evaluate(useful_predictions_rf)\n",
    "print('Validation score for model using Random Forest Classifier: %g' % (score_rf))"
   ]
  },
  {
   "cell_type": "code",
   "execution_count": 12,
   "metadata": {},
   "outputs": [
    {
     "name": "stdout",
     "output_type": "stream",
     "text": [
      "Validation score for model using Naive Bayes Classifier: 0.328312\n"
     ]
    }
   ],
   "source": [
    "# Using Naive Bayes Classifier\n",
    "vec_assembler = VectorAssembler(inputCols=req_columns, outputCol=\"features\")\n",
    "label_string = StringIndexer(inputCol = \"useful_category\", outputCol = \"label\")\n",
    "min_max_scaler = MinMaxScaler(inputCol=\"features\", outputCol=\"scaledFeatures\")\n",
    "NB = NaiveBayes(smoothing=1.0,featuresCol=\"scaledFeatures\", labelCol=\"label\")\n",
    "useful_pipeline_NB = Pipeline(stages=[vec_assembler,label_string, min_max_scaler,NB])\n",
    "useful_model_NB = useful_pipeline_NB.fit(train_data_model)\n",
    "useful_predictions_NB = useful_model_NB.transform(validation)\n",
    "evaluator = BinaryClassificationEvaluator()\n",
    "score_NB = evaluator.evaluate(useful_predictions_NB)\n",
    "print('Validation score for model using Naive Bayes Classifier: %g' % (score_NB))"
   ]
  },
  {
   "cell_type": "code",
   "execution_count": 13,
   "metadata": {},
   "outputs": [
    {
     "name": "stdout",
     "output_type": "stream",
     "text": [
      "Validation score for model using Multilayer perceptron classifier: 0.44229\n"
     ]
    }
   ],
   "source": [
    "#Using Multilayer perceptron classifier\n",
    "vec_assembler = VectorAssembler(inputCols=req_columns, outputCol=\"features\")\n",
    "label_string = StringIndexer(inputCol = \"useful_category\", outputCol = \"label\")\n",
    "min_max_scaler = MinMaxScaler(inputCol=\"features\", outputCol=\"scaledFeatures\")\n",
    "mlp = MultilayerPerceptronClassifier(featuresCol=\"scaledFeatures\", labelCol=\"label\",maxIter=5, layers=[18, 24, 24], blockSize=32, seed=1243)\n",
    "useful_pipeline_mlp = Pipeline(stages=[vec_assembler,label_string, min_max_scaler,mlp])\n",
    "useful_model_mlp = useful_pipeline_mlp.fit(train_data_model)\n",
    "useful_predictions_mlp = useful_model_mlp.transform(validation)\n",
    "evaluator = BinaryClassificationEvaluator()\n",
    "score_mlp = evaluator.evaluate(useful_predictions_mlp)\n",
    "print('Validation score for model using Multilayer perceptron classifier: %g' % (score_mlp))"
   ]
  },
  {
   "cell_type": "code",
   "execution_count": 14,
   "metadata": {},
   "outputs": [
    {
     "name": "stdout",
     "output_type": "stream",
     "text": [
      "Validation score for model using Random Forest Classifier: 0.725348\n"
     ]
    }
   ],
   "source": [
    "# Using Gradient Boosting Tree Classifier\n",
    "vec_assembler = VectorAssembler(inputCols=req_columns, outputCol=\"features\")\n",
    "label_string = StringIndexer(inputCol = \"useful_category\", outputCol = \"label\")\n",
    "min_max_scaler = MinMaxScaler(inputCol=\"features\", outputCol=\"scaledFeatures\")\n",
    "gbt = GBTClassifier(labelCol=\"label\", featuresCol=\"scaledFeatures\", maxIter=5)\n",
    "useful_pipeline_gbt = Pipeline(stages=[vec_assembler,label_string, min_max_scaler,gbt])\n",
    "useful_model_gbt = useful_pipeline_gbt.fit(train_data_model)\n",
    "useful_predictions_gbt = useful_model_gbt.transform(validation)\n",
    "evaluator = BinaryClassificationEvaluator()\n",
    "score_gbt = evaluator.evaluate(useful_predictions_gbt)\n",
    "print('Validation score for model using Random Forest Classifier: %g' % (score_gbt))"
   ]
  },
  {
   "cell_type": "code",
   "execution_count": 15,
   "metadata": {},
   "outputs": [
    {
     "data": {
      "image/png": "[encoded data removed]",
      "text/plain": [
       "<Figure size 432x288 with 1 Axes>"
      ]
     },
     "metadata": {
      "needs_background": "light"
     },
     "output_type": "display_data"
    },
    {
     "name": "stdout",
     "output_type": "stream",
     "text": [
      "[0.7067939087756936, 0.662612400914873, 0.7193020021539658, 0.3283117108469618, 0.4422901173802699, 0.7253476807465463]\n"
     ]
    }
   ],
   "source": [
    "# Plotting Accuracies\n",
    "plt.bar([\"Logistic\",\"Decision Tree\",\"Random Forest\",\"Naive Bayes\",\"MLP\",\"Gradient Boost\"],\\\n",
    "        [score,score_dtc,score_rf,score_NB,score_mlp,score_gbt])\n",
    "plt.xticks(rotation=45)\n",
    "plt.xlabel('Classifiers')\n",
    "plt.ylabel('metric-AUC')\n",
    "plt.show()\n",
    "scores_list = [score,score_dtc,score_rf,score_NB,score_mlp,score_gbt]\n",
    "print(scores_list)"
   ]
  },
  {
   "cell_type": "code",
   "execution_count": 16,
   "metadata": {},
   "outputs": [],
   "source": [
    "# GBT Classifier is the best\n",
    "# Saving model with best accuracy\n",
    "useful_model_gbt.write().overwrite().save(\"Model_Useful_Binary\")"
   ]
  },
  {
   "cell_type": "code",
   "execution_count": 3,
   "metadata": {},
   "outputs": [
    {
     "name": "stdout",
     "output_type": "stream",
     "text": [
      "Test score for model: 0.727331\n"
     ]
    }
   ],
   "source": [
    "# Loading model\n",
    "load_model = PipelineModel.load(\"Model_Useful_Binary\")\n",
    "test_data = spark.read.parquet(\"MLearnBinary/test\")\n",
    "predictions_test = load_model.transform(test_data)\n",
    "predictions_test = predictions_test.orderBy(\"label\")\n",
    "evaluator_test = BinaryClassificationEvaluator()\n",
    "score_test = evaluator_test.evaluate(predictions_test)\n",
    "print('Test score for model: %g' % (score_test))"
   ]
  },
  {
   "cell_type": "code",
   "execution_count": 17,
   "metadata": {},
   "outputs": [
    {
     "data": {
      "text/plain": [
       "0.682701386044707"
      ]
     },
     "execution_count": 17,
     "metadata": {},
     "output_type": "execute_result"
    }
   ],
   "source": [
    "# Precision\n",
    "precision_score(y_true, y_pred)"
   ]
  },
  {
   "cell_type": "code",
   "execution_count": 18,
   "metadata": {},
   "outputs": [
    {
     "data": {
      "text/plain": [
       "0.5605512202633269"
      ]
     },
     "execution_count": 18,
     "metadata": {},
     "output_type": "execute_result"
    }
   ],
   "source": [
    "# Recall\n",
    "recall_score(y_true, y_pred)"
   ]
  },
  {
   "cell_type": "code",
   "execution_count": 4,
   "metadata": {},
   "outputs": [
    {
     "data": {
      "text/plain": [
       "array([[487065, 147198],\n",
       "       [248289, 316712]], dtype=int64)"
      ]
     },
     "execution_count": 4,
     "metadata": {},
     "output_type": "execute_result"
    }
   ],
   "source": [
    "# Confusion matrix\n",
    "from sklearn.metrics import confusion_matrix,precision_score,recall_score\n",
    "\n",
    "y_true = predictions_test.select(\"label\")\n",
    "y_true = y_true.toPandas()\n",
    "\n",
    "y_pred = predictions_test.select(\"prediction\")\n",
    "y_pred = y_pred.toPandas()\n",
    "\n",
    "cnf_matrix = confusion_matrix(y_true, y_pred)\n",
    "cnf_matrix"
   ]
  },
  {
   "cell_type": "code",
   "execution_count": 5,
   "metadata": {
    "scrolled": true
   },
   "outputs": [
    {
     "name": "stdout",
     "output_type": "stream",
     "text": [
      "+---------------+-----+------+\n",
      "|useful_category|label| count|\n",
      "+---------------+-----+------+\n",
      "|     not_useful|  0.0|634263|\n",
      "|         useful|  1.0|565001|\n",
      "+---------------+-----+------+\n",
      "\n"
     ]
    }
   ],
   "source": [
    "# prediction labels\n",
    "predictions_test.groupby(\"useful_category\",\"label\").count().show()"
   ]
  },
  {
   "cell_type": "code",
   "execution_count": 6,
   "metadata": {},
   "outputs": [
    {
     "name": "stdout",
     "output_type": "stream",
     "text": [
      "Normalized confusion matrix\n"
     ]
    },
    {
     "data": {
      "text/plain": [
       "<Figure size 432x288 with 0 Axes>"
      ]
     },
     "execution_count": 6,
     "metadata": {},
     "output_type": "execute_result"
    },
    {
     "data": {
      "image/png": "[encoded data removed]",
      "text/plain": [
       "<Figure size 432x288 with 2 Axes>"
      ]
     },
     "metadata": {
      "needs_background": "light"
     },
     "output_type": "display_data"
    },
    {
     "data": {
      "text/plain": [
       "<Figure size 432x288 with 0 Axes>"
      ]
     },
     "metadata": {},
     "output_type": "display_data"
    }
   ],
   "source": [
    "from sklearn.metrics import confusion_matrix\n",
    "import itertools\n",
    "'''\n",
    "plot_confusion_matrix taken from\n",
    "https://scikit-learn.org/stable/auto_examples/model_selection/plot_confusion_matrix.html\n",
    "#sphx-glr-download-auto-examples-model-selection-plot-confusion-matrix-py\n",
    "'''\n",
    "def plot_confusion_matrix(cm, classes,\n",
    "                          normalize=False,\n",
    "                          title='Confusion matrix',\n",
    "                          cmap=plt.cm.Blues):\n",
    "    \"\"\"\n",
    "    This function prints and plots the confusion matrix.\n",
    "    Normalization can be applied by setting `normalize=True`.\n",
    "    \"\"\"\n",
    "    if normalize:\n",
    "        cm = cm.astype('float') / cm.sum(axis=1)[:, np.newaxis]\n",
    "        print(\"Normalized confusion matrix\")\n",
    "    else:\n",
    "        print('Confusion matrix, without normalization')\n",
    "\n",
    "\n",
    "    plt.imshow(cm, interpolation='nearest', cmap=cmap)\n",
    "    plt.title(title)\n",
    "    plt.colorbar()\n",
    "    tick_marks = np.arange(len(classes))\n",
    "    plt.xticks(tick_marks, classes, rotation = 90)\n",
    "    plt.yticks(tick_marks, classes)\n",
    "\n",
    "    fmt = '.2f' if normalize else 'd'\n",
    "    thresh = cm.max() / 2.\n",
    "    for i, j in itertools.product(range(cm.shape[0]), range(cm.shape[1])):\n",
    "        plt.text(j, i, format(cm[i, j], fmt),\n",
    "                 horizontalalignment=\"center\",\n",
    "                 color=\"white\" if cm[i, j] > thresh else \"black\")\n",
    "\n",
    "    plt.ylabel('True label')\n",
    "    plt.xlabel('Predicted label')\n",
    "    plt.tight_layout()\n",
    "    \n",
    "class_list = [\"not_useful\",\"useful\"]\n",
    "plot_confusion_matrix(cnf_matrix, classes=class_list, normalize=True, title='Normalized confusion matrix')\n",
    "plt.figure()"
   ]
  },
  {
   "cell_type": "code",
   "execution_count": 7,
   "metadata": {},
   "outputs": [
    {
     "name": "stdout",
     "output_type": "stream",
     "text": [
      "Test score for model: 0.727331\n"
     ]
    }
   ],
   "source": [
    "print('Test score for model: %g' % (score_test))"
   ]
  },
  {
   "cell_type": "markdown",
   "metadata": {},
   "source": [
    "<b>Categories</b> - <br>\n",
    "\"not_useful\" - 0 useful votes<br>\n",
    "\"useful\" - more than 0 useful votes \n",
    "<br>\n",
    "Test score for model: 0.727331\n",
    "<br>\n",
    "Achieved <b>72%</b> accuracy on the model"
   ]
  }
 ],
 "metadata": {
  "kernelspec": {
   "display_name": "Python 3",
   "language": "python",
   "name": "python3"
  },
  "language_info": {
   "codemirror_mode": {
    "name": "ipython",
    "version": 3
   },
   "file_extension": ".py",
   "mimetype": "text/x-python",
   "name": "python",
   "nbconvert_exporter": "python",
   "pygments_lexer": "ipython3",
   "version": "3.6.0"
  }
 },
 "nbformat": 4,
 "nbformat_minor": 2
}
